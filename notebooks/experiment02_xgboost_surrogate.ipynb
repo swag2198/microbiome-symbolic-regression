{
 "cells": [
  {
   "cell_type": "code",
   "execution_count": 1,
   "id": "d22312ab",
   "metadata": {},
   "outputs": [
    {
     "name": "stdout",
     "output_type": "stream",
     "text": [
      "Python 3.10.13\r\n"
     ]
    }
   ],
   "source": [
    "!python --version"
   ]
  },
  {
   "cell_type": "code",
   "execution_count": 2,
   "id": "943691b4",
   "metadata": {},
   "outputs": [],
   "source": [
    "%load_ext autoreload\n",
    "%autoreload 2"
   ]
  },
  {
   "cell_type": "code",
   "execution_count": 3,
   "id": "ab03ffb6",
   "metadata": {},
   "outputs": [],
   "source": [
    "import os, time, datetime\n",
    "import json, pickle\n",
    "from pprint import pprint\n",
    "\n",
    "import numpy as np\n",
    "import pandas as pd\n",
    "import matplotlib.pyplot as plt\n",
    "\n",
    "# import tree based models\n",
    "from sklearn.linear_model import LogisticRegression\n",
    "from sklearn.tree import DecisionTreeClassifier\n",
    "from sklearn.ensemble import RandomForestClassifier\n",
    "from sklearn.ensemble import GradientBoostingClassifier\n",
    "from xgboost import XGBClassifier\n",
    "\n",
    "# training/testing utils\n",
    "from sklearn.utils import resample\n",
    "from sklearn.utils.class_weight import compute_class_weight, compute_sample_weight\n",
    "from sklearn.model_selection import train_test_split\n",
    "from sklearn.metrics import accuracy_score, classification_report, roc_auc_score\n",
    "from sklearn.utils.class_weight import compute_sample_weight, compute_class_weight\n",
    "\n",
    "# Symbolic regression\n",
    "from gplearn.genetic import SymbolicClassifier"
   ]
  },
  {
   "cell_type": "markdown",
   "id": "7a89a032",
   "metadata": {},
   "source": [
    "## Load data"
   ]
  },
  {
   "cell_type": "code",
   "execution_count": 4,
   "id": "a36e2e8e",
   "metadata": {},
   "outputs": [
    {
     "name": "stdout",
     "output_type": "stream",
     "text": [
      "(14560, 756) (14560, 749) (14560,) {0: 'healthy', 1: 'IBD', 2: 'CRC', 3: 'adenoma', 4: 'T2D'} {'healthy': 10761, 'IBD': 1736, 'CRC': 701, 'adenoma': 209, 'T2D': 1153}\n"
     ]
    },
    {
     "name": "stderr",
     "output_type": "stream",
     "text": [
      "/var/folders/qp/4w02sqhj6_d43815lhzjb7900000gn/T/ipykernel_76277/129412594.py:1: DtypeWarning: Columns (756) have mixed types. Specify dtype option on import or set low_memory=False.\n",
      "  data = pd.read_csv('../data/data_diet_filtered.csv', index_col=0)\n"
     ]
    }
   ],
   "source": [
    "data = pd.read_csv('../data/data_diet_filtered.csv', index_col=0)\n",
    "\n",
    "data.disease, enc_values = pd.factorize(data.disease) # to get back original labels, do \"enc_values[data.disease]\"\n",
    "\n",
    "drop_col = ['index', 'disease', 'subject_id','gender', 'country','age_category', 'diet']\n",
    "X = data.drop(labels=drop_col, axis=1)\n",
    "y = data.disease.values\n",
    "\n",
    "class_map = {v: k for v, k in enumerate(list(enc_values.values))}  # coded label to names\n",
    "class_counts = {k: len(y[y==v]) for v, k in enumerate(list(enc_values.values))}\n",
    "assert sum([class_counts[k] for k in class_counts]) == len(X), 'total #samples not matching when summing for each class'\n",
    "\n",
    "print(data.shape, X.shape, y.shape, class_map, class_counts)"
   ]
  },
  {
   "cell_type": "code",
   "execution_count": 5,
   "id": "a32d7584",
   "metadata": {},
   "outputs": [
    {
     "name": "stdout",
     "output_type": "stream",
     "text": [
      "X.shape: (14156, 749), y.shape: (14156,)\n"
     ]
    }
   ],
   "source": [
    "# only take normalized rows!\n",
    "normalized_idx = (X.sum(1) > 99)\n",
    "X = X[normalized_idx]\n",
    "y = y[X.index]\n",
    "\n",
    "print(f\"X.shape: {X.shape}, y.shape: {y.shape}\")"
   ]
  },
  {
   "cell_type": "code",
   "execution_count": 6,
   "id": "97181a2b",
   "metadata": {},
   "outputs": [],
   "source": [
    "from srmb.utils import calculate_metrics\n",
    "from imblearn.under_sampling import RandomUnderSampler\n",
    "from collections import Counter"
   ]
  },
  {
   "cell_type": "markdown",
   "id": "7c5d296d",
   "metadata": {},
   "source": [
    "## Healthy vs. CRC classification\n",
    "For the subsequent analysis, we will only choose the healthy and CRC patients from the \n",
    "dataset."
   ]
  },
  {
   "cell_type": "code",
   "execution_count": 7,
   "id": "b09762dc",
   "metadata": {},
   "outputs": [
    {
     "name": "stdout",
     "output_type": "stream",
     "text": [
      "Error exception: Only one class present in y_true. ROC AUC score is not defined in that case.\n"
     ]
    }
   ],
   "source": [
    "from srmb.fitness_functions import customacc\n",
    "from srmb.special_functions import (\n",
    "    presence, absence, add3, add10, ifelse, ifelseless,\n",
    "    presence2, absence2,\n",
    "    presence3, absence3\n",
    ")"
   ]
  },
  {
   "cell_type": "code",
   "execution_count": 8,
   "id": "c617bbfc",
   "metadata": {},
   "outputs": [
    {
     "name": "stdout",
     "output_type": "stream",
     "text": [
      "doing for class = CRC, X1.shape=(11137, 749), y1.shape=(11137,), #CRC samples = 664\n"
     ]
    }
   ],
   "source": [
    "k = 2\n",
    "idxs = (y == 0) | (y == k)  # get healthy and that class' data\n",
    "\n",
    "X1, y1 = X.iloc[idxs], y[idxs]\n",
    "y1[y1 == k] = 1  # relabel 1 --> CRC, 0 --> healthy\n",
    "print(f'doing for class = {class_map[k]}, {X1.shape=}, {y1.shape=}, #{class_map[k]} samples = {y1.sum()}')"
   ]
  },
  {
   "cell_type": "markdown",
   "id": "085e4f81",
   "metadata": {},
   "source": [
    "## Fit an XGboost model (top performing) in the baseline experiment, and distill its _knowledge_ with a symbolic regression estimator"
   ]
  },
  {
   "cell_type": "code",
   "execution_count": 9,
   "id": "f4f93b81",
   "metadata": {},
   "outputs": [
    {
     "name": "stdout",
     "output_type": "stream",
     "text": [
      "seed=42\n",
      "[(0, 781), (1, 664)]\n",
      "XGBClassifier\n",
      "Test accuracy: 0.8260 Test AUROC: 0.9131 Test F1 score: 0.8013\n"
     ]
    },
    {
     "data": {
      "text/plain": [
       "(0.8259668508287292, 0.8012618296529969, 0.9130808950086059)"
      ]
     },
     "execution_count": 9,
     "metadata": {},
     "output_type": "execute_result"
    }
   ],
   "source": [
    "USE_BALANCED_SUBSAMPLE = True\n",
    "\n",
    "random_state = 42\n",
    "\n",
    "rus = RandomUnderSampler(sampling_strategy=0.85, # this is another hyperparameter\n",
    "                         random_state=random_state)\n",
    "X1b, y1b = rus.fit_resample(X1, y1)\n",
    "print(f'seed={random_state}')\n",
    "print(sorted(Counter(y1b).items()))\n",
    "\n",
    "if not USE_BALANCED_SUBSAMPLE:\n",
    "    X_train, X_test, y_train, y_test = train_test_split(X1, y1,\n",
    "                                                    test_size=0.25,\n",
    "                                                    # train_size=0.5, # if slow use this\n",
    "                                                    random_state=random_state, stratify=y1)\n",
    "    class_weight = compute_class_weight(class_weight='balanced', classes=np.unique(y1), y=y1)\n",
    "else:\n",
    "    # print('using a balanced subsample of the data ...')\n",
    "    X_train, X_test, y_train, y_test = train_test_split(X1b, y1b,\n",
    "                                                        test_size=0.25,\n",
    "                                                        # train_size=0.5, # if slow use this\n",
    "                                                        random_state=42, stratify=y1b)\n",
    "    class_weight = compute_class_weight(class_weight='balanced', classes=np.unique(y1b), y=y1b)\n",
    "\n",
    "\n",
    "sample_weights = compute_sample_weight(class_weight='balanced', y=y_train)\n",
    "\n",
    "# Create an XGBoost classifier for multiclass classification\n",
    "model_xg = XGBClassifier(n_estimators=50, max_depth=5, learning_rate=0.1, objective='binary:logistic')\n",
    "model_xg.fit(X_train, y_train, sample_weight=sample_weights)\n",
    "\n",
    "calculate_metrics(model_xg, X_train, y_train, X_test, y_test)"
   ]
  },
  {
   "cell_type": "code",
   "execution_count": 10,
   "id": "edf06de9",
   "metadata": {},
   "outputs": [],
   "source": [
    "# Prepare labels\n",
    "y_train_xg = model_xg.predict(X_train)\n",
    "y_train_xg_prob = model_xg.predict_proba(X_train)[:, 1]\n",
    "\n",
    "y_test_xg = model_xg.predict(X_test)\n",
    "y_test_xg_prob = model_xg.predict_proba(X_test)[:, 1]"
   ]
  },
  {
   "cell_type": "markdown",
   "id": "54b5e724",
   "metadata": {},
   "source": [
    "## KD using symbolic classifier"
   ]
  },
  {
   "cell_type": "code",
   "execution_count": 11,
   "id": "9989f248",
   "metadata": {},
   "outputs": [
    {
     "name": "stdout",
     "output_type": "stream",
     "text": [
      "    |   Population Average    |             Best Individual              |\n",
      "---- ------------------------- ------------------------------------------ ----------\n",
      " Gen   Length          Fitness   Length          Fitness      OOB Fitness  Time Left\n",
      "   0    22.82         0.517538        4         0.711911              N/A     45.38s\n",
      "   1     5.72         0.534879       10         0.734995              N/A     37.07s\n",
      "   2     5.04         0.554695       10         0.771006              N/A     35.81s\n",
      "   3     2.49         0.622424        9         0.790397              N/A     32.07s\n",
      "   4     1.46         0.705008        9          0.79132              N/A     30.05s\n",
      "   5     2.34         0.622646        9         0.803324              N/A     27.88s\n",
      "   6     4.26         0.534865        4          0.79132              N/A     26.79s\n",
      "   7     4.84          0.53956        5          0.79132              N/A     25.19s\n",
      "   8     4.78         0.553456        8          0.79132              N/A     22.73s\n",
      "   9     4.08         0.531086        4          0.79132              N/A     20.96s\n",
      "  10     4.01         0.534689        4          0.79132              N/A     18.49s\n",
      "  11     4.05         0.531725        4          0.79132              N/A     16.28s\n",
      "  12     4.01         0.529695        7          0.79132              N/A     14.79s\n",
      "  13     4.05         0.533462        4          0.79132              N/A     12.33s\n",
      "  14     4.02         0.527718        4          0.79132              N/A     10.18s\n",
      "  15     4.02         0.536702        4          0.79132              N/A      8.53s\n",
      "  16     4.00         0.534211        4          0.79132              N/A      6.37s\n",
      "  17     4.01         0.535283        4          0.79132              N/A      4.49s\n",
      "  18     4.01         0.533875        4          0.79132              N/A      2.35s\n",
      "  19     4.03         0.531193        4          0.79132              N/A      0.00s\n",
      "Time to fit symbolic classifier: 42.151286125183105 seconds\n",
      "SymbolicClassifier\n",
      "Test accuracy: 0.8094 Test AUROC: 0.7866 Test F1 score: 0.7396\n"
     ]
    },
    {
     "data": {
      "text/plain": [
       "(0.8093922651933702, 0.739622641509434, 0.7865886193151502)"
      ]
     },
     "execution_count": 11,
     "metadata": {},
     "output_type": "execute_result"
    }
   ],
   "source": [
    "# SR with special functions\n",
    "special_functions = [presence, absence, presence2, absence2, ifelse, ifelseless]#, add3, add10]\n",
    "function_set = special_functions\n",
    "\n",
    "est = SymbolicClassifier(population_size=6000,\n",
    "                         generations=20,\n",
    "                         tournament_size=25,\n",
    "\n",
    "                         init_depth=(2, 6),\n",
    "                         const_range=(0., 100.),\n",
    "                         init_method=\"full\",\n",
    "                         parsimony_coefficient=0.008,\n",
    "                         function_set=function_set,\n",
    "\n",
    "                         stopping_criteria=1.0, metric=customacc, #use custom acc as fitness\n",
    "\n",
    "                         feature_names=X1.columns.to_list(),\n",
    "                         verbose=True,\n",
    "                         random_state=42)\n",
    "\n",
    "t0 = time.time()\n",
    "est.fit(X_train, y_train_xg)\n",
    "print('Time to fit symbolic classifier:', time.time() - t0, 'seconds')\n",
    "calculate_metrics(est, X_train, y_train_xg, X_test, y_test_xg)"
   ]
  },
  {
   "cell_type": "code",
   "execution_count": 12,
   "id": "05c6b140",
   "metadata": {},
   "outputs": [],
   "source": [
    "from IPython.display import display, Image\n",
    "from srmb.utils import load_sr_models, create_graph, graph_to_jpg"
   ]
  },
  {
   "cell_type": "code",
   "execution_count": 13,
   "id": "c81abebc",
   "metadata": {},
   "outputs": [
    {
     "data": {
      "image/jpeg": "[encoded data removed]",
      "text/plain": [
       "<IPython.core.display.Image object>"
      ]
     },
     "metadata": {
      "image/jpeg": {
       "unconfined": true,
       "width": 500
      }
     },
     "output_type": "display_data"
    }
   ],
   "source": [
    "G = create_graph(est)\n",
    "display(Image(graph_to_jpg(G,\n",
    "                           path=\"../results_srmb/xgboost_distilled_sr.jpg\"), width=500, unconfined=True)\n",
    "       )\n"
   ]
  },
  {
   "cell_type": "code",
   "execution_count": null,
   "id": "fe249b34",
   "metadata": {},
   "outputs": [],
   "source": []
  },
  {
   "cell_type": "code",
   "execution_count": null,
   "id": "b93d4bf5",
   "metadata": {},
   "outputs": [],
   "source": []
  },
  {
   "cell_type": "code",
   "execution_count": null,
   "id": "9b33a980",
   "metadata": {},
   "outputs": [],
   "source": []
  },
  {
   "cell_type": "code",
   "execution_count": null,
   "id": "3f974e09",
   "metadata": {},
   "outputs": [],
   "source": []
  }
 ],
 "metadata": {
  "kernelspec": {
   "display_name": "Python 3 (ipykernel)",
   "language": "python",
   "name": "python3"
  },
  "language_info": {
   "codemirror_mode": {
    "name": "ipython",
    "version": 3
   },
   "file_extension": ".py",
   "mimetype": "text/x-python",
   "name": "python",
   "nbconvert_exporter": "python",
   "pygments_lexer": "ipython3",
   "version": "3.10.13"
  }
 },
 "nbformat": 4,
 "nbformat_minor": 5
}
